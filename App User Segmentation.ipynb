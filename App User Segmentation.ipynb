{
 "cells": [
  {
   "cell_type": "code",
   "execution_count": 1,
   "id": "f84afe21",
   "metadata": {},
   "outputs": [],
   "source": [
    "#Importing libraries \n",
    "import pandas as pd\n",
    "import matplotlib.pyplot as plt\n",
    "import seaborn as sns "
   ]
  },
  {
   "cell_type": "code",
   "execution_count": 2,
   "id": "51a6c5fc",
   "metadata": {},
   "outputs": [],
   "source": [
    "#Loading Data \n",
    "df=pd.read_csv(\"../Internship/Project_datasets/userbehaviour.csv\")"
   ]
  },
  {
   "cell_type": "code",
   "execution_count": 3,
   "id": "4e6e5bd2",
   "metadata": {
    "scrolled": true
   },
   "outputs": [
    {
     "data": {
      "text/html": [
       "<div>\n",
       "<style scoped>\n",
       "    .dataframe tbody tr th:only-of-type {\n",
       "        vertical-align: middle;\n",
       "    }\n",
       "\n",
       "    .dataframe tbody tr th {\n",
       "        vertical-align: top;\n",
       "    }\n",
       "\n",
       "    .dataframe thead th {\n",
       "        text-align: right;\n",
       "    }\n",
       "</style>\n",
       "<table border=\"1\" class=\"dataframe\">\n",
       "  <thead>\n",
       "    <tr style=\"text-align: right;\">\n",
       "      <th></th>\n",
       "      <th>userid</th>\n",
       "      <th>Average Screen Time</th>\n",
       "      <th>Average Spent on App (INR)</th>\n",
       "      <th>Left Review</th>\n",
       "      <th>Ratings</th>\n",
       "      <th>New Password Request</th>\n",
       "      <th>Last Visited Minutes</th>\n",
       "      <th>Status</th>\n",
       "    </tr>\n",
       "  </thead>\n",
       "  <tbody>\n",
       "    <tr>\n",
       "      <th>0</th>\n",
       "      <td>1001</td>\n",
       "      <td>17.0</td>\n",
       "      <td>634.0</td>\n",
       "      <td>1</td>\n",
       "      <td>9</td>\n",
       "      <td>7</td>\n",
       "      <td>2990</td>\n",
       "      <td>Installed</td>\n",
       "    </tr>\n",
       "    <tr>\n",
       "      <th>1</th>\n",
       "      <td>1002</td>\n",
       "      <td>0.0</td>\n",
       "      <td>54.0</td>\n",
       "      <td>0</td>\n",
       "      <td>4</td>\n",
       "      <td>8</td>\n",
       "      <td>24008</td>\n",
       "      <td>Uninstalled</td>\n",
       "    </tr>\n",
       "    <tr>\n",
       "      <th>2</th>\n",
       "      <td>1003</td>\n",
       "      <td>37.0</td>\n",
       "      <td>207.0</td>\n",
       "      <td>0</td>\n",
       "      <td>8</td>\n",
       "      <td>5</td>\n",
       "      <td>971</td>\n",
       "      <td>Installed</td>\n",
       "    </tr>\n",
       "    <tr>\n",
       "      <th>3</th>\n",
       "      <td>1004</td>\n",
       "      <td>32.0</td>\n",
       "      <td>445.0</td>\n",
       "      <td>1</td>\n",
       "      <td>6</td>\n",
       "      <td>2</td>\n",
       "      <td>799</td>\n",
       "      <td>Installed</td>\n",
       "    </tr>\n",
       "    <tr>\n",
       "      <th>4</th>\n",
       "      <td>1005</td>\n",
       "      <td>45.0</td>\n",
       "      <td>427.0</td>\n",
       "      <td>1</td>\n",
       "      <td>5</td>\n",
       "      <td>6</td>\n",
       "      <td>3668</td>\n",
       "      <td>Installed</td>\n",
       "    </tr>\n",
       "    <tr>\n",
       "      <th>5</th>\n",
       "      <td>1006</td>\n",
       "      <td>28.0</td>\n",
       "      <td>599.0</td>\n",
       "      <td>0</td>\n",
       "      <td>9</td>\n",
       "      <td>4</td>\n",
       "      <td>2878</td>\n",
       "      <td>Installed</td>\n",
       "    </tr>\n",
       "    <tr>\n",
       "      <th>6</th>\n",
       "      <td>1007</td>\n",
       "      <td>49.0</td>\n",
       "      <td>887.0</td>\n",
       "      <td>1</td>\n",
       "      <td>9</td>\n",
       "      <td>6</td>\n",
       "      <td>4481</td>\n",
       "      <td>Installed</td>\n",
       "    </tr>\n",
       "    <tr>\n",
       "      <th>7</th>\n",
       "      <td>1008</td>\n",
       "      <td>8.0</td>\n",
       "      <td>31.0</td>\n",
       "      <td>0</td>\n",
       "      <td>2</td>\n",
       "      <td>1</td>\n",
       "      <td>1715</td>\n",
       "      <td>Installed</td>\n",
       "    </tr>\n",
       "    <tr>\n",
       "      <th>8</th>\n",
       "      <td>1009</td>\n",
       "      <td>28.0</td>\n",
       "      <td>741.0</td>\n",
       "      <td>1</td>\n",
       "      <td>8</td>\n",
       "      <td>2</td>\n",
       "      <td>801</td>\n",
       "      <td>Installed</td>\n",
       "    </tr>\n",
       "    <tr>\n",
       "      <th>9</th>\n",
       "      <td>1010</td>\n",
       "      <td>28.0</td>\n",
       "      <td>524.0</td>\n",
       "      <td>1</td>\n",
       "      <td>8</td>\n",
       "      <td>4</td>\n",
       "      <td>4621</td>\n",
       "      <td>Installed</td>\n",
       "    </tr>\n",
       "  </tbody>\n",
       "</table>\n",
       "</div>"
      ],
      "text/plain": [
       "   userid  Average Screen Time  Average Spent on App (INR)  Left Review  \\\n",
       "0    1001                 17.0                       634.0            1   \n",
       "1    1002                  0.0                        54.0            0   \n",
       "2    1003                 37.0                       207.0            0   \n",
       "3    1004                 32.0                       445.0            1   \n",
       "4    1005                 45.0                       427.0            1   \n",
       "5    1006                 28.0                       599.0            0   \n",
       "6    1007                 49.0                       887.0            1   \n",
       "7    1008                  8.0                        31.0            0   \n",
       "8    1009                 28.0                       741.0            1   \n",
       "9    1010                 28.0                       524.0            1   \n",
       "\n",
       "   Ratings  New Password Request  Last Visited Minutes       Status  \n",
       "0        9                     7                  2990    Installed  \n",
       "1        4                     8                 24008  Uninstalled  \n",
       "2        8                     5                   971    Installed  \n",
       "3        6                     2                   799    Installed  \n",
       "4        5                     6                  3668    Installed  \n",
       "5        9                     4                  2878    Installed  \n",
       "6        9                     6                  4481    Installed  \n",
       "7        2                     1                  1715    Installed  \n",
       "8        8                     2                   801    Installed  \n",
       "9        8                     4                  4621    Installed  "
      ]
     },
     "execution_count": 3,
     "metadata": {},
     "output_type": "execute_result"
    }
   ],
   "source": [
    "df.head(10)"
   ]
  },
  {
   "cell_type": "code",
   "execution_count": 4,
   "id": "8a749d56",
   "metadata": {},
   "outputs": [
    {
     "name": "stdout",
     "output_type": "stream",
     "text": [
      "<class 'pandas.core.frame.DataFrame'>\n",
      "RangeIndex: 999 entries, 0 to 998\n",
      "Data columns (total 8 columns):\n",
      " #   Column                      Non-Null Count  Dtype  \n",
      "---  ------                      --------------  -----  \n",
      " 0   userid                      999 non-null    int64  \n",
      " 1   Average Screen Time         999 non-null    float64\n",
      " 2   Average Spent on App (INR)  999 non-null    float64\n",
      " 3   Left Review                 999 non-null    int64  \n",
      " 4   Ratings                     999 non-null    int64  \n",
      " 5   New Password Request        999 non-null    int64  \n",
      " 6   Last Visited Minutes        999 non-null    int64  \n",
      " 7   Status                      999 non-null    object \n",
      "dtypes: float64(2), int64(5), object(1)\n",
      "memory usage: 62.6+ KB\n"
     ]
    }
   ],
   "source": [
    "df.info()"
   ]
  },
  {
   "cell_type": "markdown",
   "id": "79c3b547",
   "metadata": {},
   "source": [
    "# Cleaning of data "
   ]
  },
  {
   "cell_type": "code",
   "execution_count": 5,
   "id": "b31efae3",
   "metadata": {},
   "outputs": [
    {
     "data": {
      "text/plain": [
       "False    999\n",
       "dtype: int64"
      ]
     },
     "execution_count": 5,
     "metadata": {},
     "output_type": "execute_result"
    }
   ],
   "source": [
    "df.duplicated().value_counts()"
   ]
  },
  {
   "cell_type": "code",
   "execution_count": 6,
   "id": "afb9ebde",
   "metadata": {},
   "outputs": [
    {
     "data": {
      "text/plain": [
       "userid                        0\n",
       "Average Screen Time           0\n",
       "Average Spent on App (INR)    0\n",
       "Left Review                   0\n",
       "Ratings                       0\n",
       "New Password Request          0\n",
       "Last Visited Minutes          0\n",
       "Status                        0\n",
       "dtype: int64"
      ]
     },
     "execution_count": 6,
     "metadata": {},
     "output_type": "execute_result"
    }
   ],
   "source": [
    "df.isnull().sum()"
   ]
  },
  {
   "cell_type": "markdown",
   "id": "59e28051",
   "metadata": {},
   "source": [
    "# Data Exploring "
   ]
  },
  {
   "cell_type": "code",
   "execution_count": 7,
   "id": "a9ddbadf",
   "metadata": {},
   "outputs": [],
   "source": [
    "df['Status'] = df['Status'].map({'Installed':0,'Uninstalled':1})"
   ]
  },
  {
   "cell_type": "code",
   "execution_count": 8,
   "id": "7c77e037",
   "metadata": {},
   "outputs": [
    {
     "data": {
      "text/plain": [
       "Average Screen Time  Status\n",
       "19.0                 0         32\n",
       "33.0                 0         27\n",
       "24.0                 0         27\n",
       "30.0                 0         26\n",
       "18.0                 0         26\n",
       "34.0                 0         26\n",
       "8.0                  0         25\n",
       "31.0                 0         25\n",
       "14.0                 0         25\n",
       "35.0                 0         24\n",
       "dtype: int64"
      ]
     },
     "execution_count": 8,
     "metadata": {},
     "output_type": "execute_result"
    }
   ],
   "source": [
    "df[['Average Screen Time','Status']].value_counts().head(10)"
   ]
  },
  {
   "cell_type": "code",
   "execution_count": 9,
   "id": "1bd5b567",
   "metadata": {},
   "outputs": [
    {
     "data": {
      "text/plain": [
       "Average Screen Time  Status\n",
       "5.0                  1         11\n",
       "48.0                 0         11\n",
       "27.0                 0         10\n",
       "4.0                  0          8\n",
       "5.0                  0          7\n",
       "1.0                  0          7\n",
       "38.0                 0          4\n",
       "2.0                  0          4\n",
       "3.0                  0          3\n",
       "0.0                  0          3\n",
       "dtype: int64"
      ]
     },
     "execution_count": 9,
     "metadata": {},
     "output_type": "execute_result"
    }
   ],
   "source": [
    "df[['Average Screen Time','Status']].value_counts().tail(10)"
   ]
  },
  {
   "cell_type": "code",
   "execution_count": 10,
   "id": "b78f6ab8",
   "metadata": {},
   "outputs": [
    {
     "data": {
      "text/html": [
       "<div>\n",
       "<style scoped>\n",
       "    .dataframe tbody tr th:only-of-type {\n",
       "        vertical-align: middle;\n",
       "    }\n",
       "\n",
       "    .dataframe tbody tr th {\n",
       "        vertical-align: top;\n",
       "    }\n",
       "\n",
       "    .dataframe thead th {\n",
       "        text-align: right;\n",
       "    }\n",
       "</style>\n",
       "<table border=\"1\" class=\"dataframe\">\n",
       "  <thead>\n",
       "    <tr style=\"text-align: right;\">\n",
       "      <th></th>\n",
       "      <th>userid</th>\n",
       "      <th>Average Screen Time</th>\n",
       "      <th>Average Spent on App (INR)</th>\n",
       "      <th>Left Review</th>\n",
       "      <th>Ratings</th>\n",
       "      <th>New Password Request</th>\n",
       "      <th>Last Visited Minutes</th>\n",
       "      <th>Status</th>\n",
       "    </tr>\n",
       "  </thead>\n",
       "  <tbody>\n",
       "    <tr>\n",
       "      <th>userid</th>\n",
       "      <td>1.000000</td>\n",
       "      <td>-0.011205</td>\n",
       "      <td>0.007211</td>\n",
       "      <td>0.011871</td>\n",
       "      <td>-0.010577</td>\n",
       "      <td>0.011876</td>\n",
       "      <td>-0.031093</td>\n",
       "      <td>-0.020247</td>\n",
       "    </tr>\n",
       "    <tr>\n",
       "      <th>Average Screen Time</th>\n",
       "      <td>-0.011205</td>\n",
       "      <td>1.000000</td>\n",
       "      <td>0.445920</td>\n",
       "      <td>-0.019984</td>\n",
       "      <td>0.557624</td>\n",
       "      <td>-0.261706</td>\n",
       "      <td>-0.458216</td>\n",
       "      <td>-0.467834</td>\n",
       "    </tr>\n",
       "    <tr>\n",
       "      <th>Average Spent on App (INR)</th>\n",
       "      <td>0.007211</td>\n",
       "      <td>0.445920</td>\n",
       "      <td>1.000000</td>\n",
       "      <td>-0.022998</td>\n",
       "      <td>0.482451</td>\n",
       "      <td>-0.207935</td>\n",
       "      <td>-0.350524</td>\n",
       "      <td>-0.359042</td>\n",
       "    </tr>\n",
       "    <tr>\n",
       "      <th>Left Review</th>\n",
       "      <td>0.011871</td>\n",
       "      <td>-0.019984</td>\n",
       "      <td>-0.022998</td>\n",
       "      <td>1.000000</td>\n",
       "      <td>0.003547</td>\n",
       "      <td>0.056722</td>\n",
       "      <td>-0.004401</td>\n",
       "      <td>-0.016627</td>\n",
       "    </tr>\n",
       "    <tr>\n",
       "      <th>Ratings</th>\n",
       "      <td>-0.010577</td>\n",
       "      <td>0.557624</td>\n",
       "      <td>0.482451</td>\n",
       "      <td>0.003547</td>\n",
       "      <td>1.000000</td>\n",
       "      <td>-0.213145</td>\n",
       "      <td>-0.416936</td>\n",
       "      <td>-0.442731</td>\n",
       "    </tr>\n",
       "    <tr>\n",
       "      <th>New Password Request</th>\n",
       "      <td>0.011876</td>\n",
       "      <td>-0.261706</td>\n",
       "      <td>-0.207935</td>\n",
       "      <td>0.056722</td>\n",
       "      <td>-0.213145</td>\n",
       "      <td>1.000000</td>\n",
       "      <td>0.464466</td>\n",
       "      <td>0.510563</td>\n",
       "    </tr>\n",
       "    <tr>\n",
       "      <th>Last Visited Minutes</th>\n",
       "      <td>-0.031093</td>\n",
       "      <td>-0.458216</td>\n",
       "      <td>-0.350524</td>\n",
       "      <td>-0.004401</td>\n",
       "      <td>-0.416936</td>\n",
       "      <td>0.464466</td>\n",
       "      <td>1.000000</td>\n",
       "      <td>0.916728</td>\n",
       "    </tr>\n",
       "    <tr>\n",
       "      <th>Status</th>\n",
       "      <td>-0.020247</td>\n",
       "      <td>-0.467834</td>\n",
       "      <td>-0.359042</td>\n",
       "      <td>-0.016627</td>\n",
       "      <td>-0.442731</td>\n",
       "      <td>0.510563</td>\n",
       "      <td>0.916728</td>\n",
       "      <td>1.000000</td>\n",
       "    </tr>\n",
       "  </tbody>\n",
       "</table>\n",
       "</div>"
      ],
      "text/plain": [
       "                              userid  Average Screen Time  \\\n",
       "userid                      1.000000            -0.011205   \n",
       "Average Screen Time        -0.011205             1.000000   \n",
       "Average Spent on App (INR)  0.007211             0.445920   \n",
       "Left Review                 0.011871            -0.019984   \n",
       "Ratings                    -0.010577             0.557624   \n",
       "New Password Request        0.011876            -0.261706   \n",
       "Last Visited Minutes       -0.031093            -0.458216   \n",
       "Status                     -0.020247            -0.467834   \n",
       "\n",
       "                            Average Spent on App (INR)  Left Review   Ratings  \\\n",
       "userid                                        0.007211     0.011871 -0.010577   \n",
       "Average Screen Time                           0.445920    -0.019984  0.557624   \n",
       "Average Spent on App (INR)                    1.000000    -0.022998  0.482451   \n",
       "Left Review                                  -0.022998     1.000000  0.003547   \n",
       "Ratings                                       0.482451     0.003547  1.000000   \n",
       "New Password Request                         -0.207935     0.056722 -0.213145   \n",
       "Last Visited Minutes                         -0.350524    -0.004401 -0.416936   \n",
       "Status                                       -0.359042    -0.016627 -0.442731   \n",
       "\n",
       "                            New Password Request  Last Visited Minutes  \\\n",
       "userid                                  0.011876             -0.031093   \n",
       "Average Screen Time                    -0.261706             -0.458216   \n",
       "Average Spent on App (INR)             -0.207935             -0.350524   \n",
       "Left Review                             0.056722             -0.004401   \n",
       "Ratings                                -0.213145             -0.416936   \n",
       "New Password Request                    1.000000              0.464466   \n",
       "Last Visited Minutes                    0.464466              1.000000   \n",
       "Status                                  0.510563              0.916728   \n",
       "\n",
       "                              Status  \n",
       "userid                     -0.020247  \n",
       "Average Screen Time        -0.467834  \n",
       "Average Spent on App (INR) -0.359042  \n",
       "Left Review                -0.016627  \n",
       "Ratings                    -0.442731  \n",
       "New Password Request        0.510563  \n",
       "Last Visited Minutes        0.916728  \n",
       "Status                      1.000000  "
      ]
     },
     "execution_count": 10,
     "metadata": {},
     "output_type": "execute_result"
    }
   ],
   "source": [
    "df.corr()"
   ]
  },
  {
   "cell_type": "markdown",
   "id": "aa74540f",
   "metadata": {},
   "source": [
    "# Building ML Model"
   ]
  },
  {
   "cell_type": "code",
   "execution_count": 11,
   "id": "8be8d266",
   "metadata": {},
   "outputs": [],
   "source": [
    "X =df[['userid','Average Screen Time','Average Spent on App (INR)','Left Review','Ratings','New Password Request','Last Visited Minutes']]\n",
    "y=df['Status']"
   ]
  },
  {
   "cell_type": "code",
   "execution_count": 12,
   "id": "45c35e6f",
   "metadata": {},
   "outputs": [],
   "source": [
    "from sklearn.model_selection import train_test_split\n",
    "X_train, X_test, y_train, y_test = train_test_split(X,y,test_size=0.25,random_state=22)"
   ]
  },
  {
   "cell_type": "code",
   "execution_count": 13,
   "id": "e3b5c32f",
   "metadata": {},
   "outputs": [],
   "source": [
    "from sklearn.preprocessing import MinMaxScaler\n",
    "scaler = MinMaxScaler()\n",
    "scaler.fit(X_train)\n",
    "X_train_scaled = scaler.transform(X_train)\n",
    "X_test_scaled = scaler.transform(X_test)"
   ]
  },
  {
   "cell_type": "code",
   "execution_count": 14,
   "id": "32b3b45d",
   "metadata": {},
   "outputs": [],
   "source": [
    "from sklearn.neighbors import KNeighborsClassifier"
   ]
  },
  {
   "cell_type": "code",
   "execution_count": 15,
   "id": "1a116939",
   "metadata": {},
   "outputs": [
    {
     "data": {
      "text/plain": [
       "0.984"
      ]
     },
     "execution_count": 15,
     "metadata": {},
     "output_type": "execute_result"
    }
   ],
   "source": [
    "model = KNeighborsClassifier(n_neighbors=5)\n",
    "model.fit(X_train_scaled,y_train)\n",
    "model.score(X_test_scaled,y_test)"
   ]
  },
  {
   "cell_type": "code",
   "execution_count": 16,
   "id": "95111975",
   "metadata": {},
   "outputs": [],
   "source": [
    "yp = model.predict(X_test_scaled)"
   ]
  },
  {
   "cell_type": "code",
   "execution_count": 17,
   "id": "9d10cee6",
   "metadata": {},
   "outputs": [],
   "source": [
    "from sklearn.metrics import accuracy_score, precision_score, recall_score, f1_score"
   ]
  },
  {
   "cell_type": "code",
   "execution_count": 18,
   "id": "57835c70",
   "metadata": {},
   "outputs": [
    {
     "name": "stdout",
     "output_type": "stream",
     "text": [
      "0.984 1.0 0.84 0.9130434782608696\n"
     ]
    }
   ],
   "source": [
    "acc=accuracy_score(y_test,yp)\n",
    "pr=precision_score(y_test,yp)\n",
    "re=recall_score(y_test,yp)\n",
    "f1=f1_score(y_test,yp)\n",
    "print(acc,pr,re,f1)"
   ]
  },
  {
   "cell_type": "code",
   "execution_count": 19,
   "id": "95863750",
   "metadata": {},
   "outputs": [],
   "source": [
    "clustering_data = df[[\"Average Screen Time\", \"Left Review\", \n",
    "                        \"Ratings\", \"Last Visited Minutes\", \n",
    "                       \"Average Spent on App (INR)\", \n",
    "                       \"New Password Request\"]]\n",
    "\n",
    "from sklearn.preprocessing import MinMaxScaler\n",
    "for i in clustering_data.columns:\n",
    "    MinMaxScaler(i)\n",
    "   \n",
    "from sklearn.cluster import KMeans\n",
    "kmeans = KMeans(n_clusters=3)\n",
    "clusters = kmeans.fit_predict(clustering_data)\n",
    "df[\"Segments\"] = clusters"
   ]
  },
  {
   "cell_type": "code",
   "execution_count": 20,
   "id": "5a00a7e3",
   "metadata": {},
   "outputs": [
    {
     "name": "stdout",
     "output_type": "stream",
     "text": [
      "   userid  Average Screen Time  Average Spent on App (INR)  Left Review  \\\n",
      "0    1001                 17.0                       634.0            1   \n",
      "1    1002                  0.0                        54.0            0   \n",
      "2    1003                 37.0                       207.0            0   \n",
      "3    1004                 32.0                       445.0            1   \n",
      "4    1005                 45.0                       427.0            1   \n",
      "5    1006                 28.0                       599.0            0   \n",
      "6    1007                 49.0                       887.0            1   \n",
      "7    1008                  8.0                        31.0            0   \n",
      "8    1009                 28.0                       741.0            1   \n",
      "9    1010                 28.0                       524.0            1   \n",
      "\n",
      "   Ratings  New Password Request  Last Visited Minutes  Status  Segments  \n",
      "0        9                     7                  2990       0         0  \n",
      "1        4                     8                 24008       1         2  \n",
      "2        8                     5                   971       0         0  \n",
      "3        6                     2                   799       0         0  \n",
      "4        5                     6                  3668       0         0  \n",
      "5        9                     4                  2878       0         0  \n",
      "6        9                     6                  4481       0         0  \n",
      "7        2                     1                  1715       0         0  \n",
      "8        8                     2                   801       0         0  \n",
      "9        8                     4                  4621       0         0  \n"
     ]
    }
   ],
   "source": [
    "print(df.head(10))"
   ]
  },
  {
   "cell_type": "code",
   "execution_count": 21,
   "id": "94f7cc92",
   "metadata": {},
   "outputs": [
    {
     "name": "stdout",
     "output_type": "stream",
     "text": [
      "0    910\n",
      "1     45\n",
      "2     44\n",
      "Name: Segments, dtype: int64\n"
     ]
    }
   ],
   "source": [
    "print(df[\"Segments\"].value_counts())"
   ]
  },
  {
   "cell_type": "code",
   "execution_count": 22,
   "id": "f84be8fc",
   "metadata": {},
   "outputs": [],
   "source": [
    "sdf[['userid','Status','Segments']].to_csv('seg_user_table',index=False)"
   ]
  }
 ],
 "metadata": {
  "kernelspec": {
   "display_name": "Python 3 (ipykernel)",
   "language": "python",
   "name": "python3"
  },
  "language_info": {
   "codemirror_mode": {
    "name": "ipython",
    "version": 3
   },
   "file_extension": ".py",
   "mimetype": "text/x-python",
   "name": "python",
   "nbconvert_exporter": "python",
   "pygments_lexer": "ipython3",
   "version": "3.9.7"
  }
 },
 "nbformat": 4,
 "nbformat_minor": 5
}
